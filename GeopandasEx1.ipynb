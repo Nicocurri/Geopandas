{
  "nbformat": 4,
  "nbformat_minor": 0,
  "metadata": {
    "colab": {
      "name": "GeopandasEx1",
      "provenance": [],
      "collapsed_sections": []
    },
    "kernelspec": {
      "name": "python3",
      "display_name": "Python 3"
    },
    "language_info": {
      "name": "python"
    }
  },
  "cells": [
    {
      "cell_type": "code",
      "execution_count": null,
      "metadata": {
        "id": "4_6lSUT9DbfN",
        "outputId": "71605e90-4808-4314-c823-bf8c487a113e",
        "colab": {
          "base_uri": "https://localhost:8080/"
        }
      },
      "outputs": [
        {
          "output_type": "stream",
          "name": "stdout",
          "text": [
            "Requirement already satisfied: geopandas in /usr/local/lib/python3.7/dist-packages (0.10.2)\n",
            "Requirement already satisfied: pyproj>=2.2.0 in /usr/local/lib/python3.7/dist-packages (from geopandas) (3.2.1)\n",
            "Requirement already satisfied: pandas>=0.25.0 in /usr/local/lib/python3.7/dist-packages (from geopandas) (1.1.5)\n",
            "Requirement already satisfied: shapely>=1.6 in /usr/local/lib/python3.7/dist-packages (from geopandas) (1.8.0)\n",
            "Requirement already satisfied: fiona>=1.8 in /usr/local/lib/python3.7/dist-packages (from geopandas) (1.8.20)\n",
            "Requirement already satisfied: attrs>=17 in /usr/local/lib/python3.7/dist-packages (from fiona>=1.8->geopandas) (21.4.0)\n",
            "Requirement already satisfied: cligj>=0.5 in /usr/local/lib/python3.7/dist-packages (from fiona>=1.8->geopandas) (0.7.2)\n",
            "Requirement already satisfied: click-plugins>=1.0 in /usr/local/lib/python3.7/dist-packages (from fiona>=1.8->geopandas) (1.1.1)\n",
            "Requirement already satisfied: munch in /usr/local/lib/python3.7/dist-packages (from fiona>=1.8->geopandas) (2.5.0)\n",
            "Requirement already satisfied: click>=4.0 in /usr/local/lib/python3.7/dist-packages (from fiona>=1.8->geopandas) (7.1.2)\n",
            "Requirement already satisfied: setuptools in /usr/local/lib/python3.7/dist-packages (from fiona>=1.8->geopandas) (57.4.0)\n",
            "Requirement already satisfied: certifi in /usr/local/lib/python3.7/dist-packages (from fiona>=1.8->geopandas) (2021.10.8)\n",
            "Requirement already satisfied: six>=1.7 in /usr/local/lib/python3.7/dist-packages (from fiona>=1.8->geopandas) (1.15.0)\n",
            "Requirement already satisfied: pytz>=2017.2 in /usr/local/lib/python3.7/dist-packages (from pandas>=0.25.0->geopandas) (2018.9)\n",
            "Requirement already satisfied: numpy>=1.15.4 in /usr/local/lib/python3.7/dist-packages (from pandas>=0.25.0->geopandas) (1.19.5)\n",
            "Requirement already satisfied: python-dateutil>=2.7.3 in /usr/local/lib/python3.7/dist-packages (from pandas>=0.25.0->geopandas) (2.8.2)\n"
          ]
        }
      ],
      "source": [
        "%matplotlib inline\n",
        "!pip install geopandas\n",
        "import pandas as pd\n",
        "import geopandas as gpd\n"
      ]
    },
    {
      "cell_type": "code",
      "source": [
        "quartieri = gpd.read_file(\"/content/drive/MyDrive/ds964_nil_wm.zip\")\n",
        "quartieri"
      ],
      "metadata": {
        "id": "zL9Bmm5mEp16"
      },
      "execution_count": null,
      "outputs": []
    },
    {
      "cell_type": "code",
      "source": [
        "from google.colab import drive\n",
        "drive.mount('/content/drive')"
      ],
      "metadata": {
        "colab": {
          "base_uri": "https://localhost:8080/"
        },
        "id": "tXZfcHk-BEcr",
        "outputId": "f51f89a7-d21a-45d3-a1c1-78d07ab54454"
      },
      "execution_count": null,
      "outputs": [
        {
          "output_type": "stream",
          "name": "stdout",
          "text": [
            "Mounted at /content/drive\n"
          ]
        }
      ]
    },
    {
      "cell_type": "code",
      "source": [
        "quartieri.crs"
      ],
      "metadata": {
        "id": "Uvnbq-8ZE_N8"
      },
      "execution_count": null,
      "outputs": []
    },
    {
      "cell_type": "markdown",
      "source": [
        "visualizzare l'intestazione"
      ],
      "metadata": {
        "id": "hXq0aBvBBcTj"
      }
    },
    {
      "cell_type": "code",
      "source": [
        "!pip install contextily"
      ],
      "metadata": {
        "id": "k1ajjb5FBfO1"
      },
      "execution_count": null,
      "outputs": []
    },
    {
      "cell_type": "markdown",
      "source": [
        "visualizzare i nomi di tutti i quartieri presenti in ordine alfabetico"
      ],
      "metadata": {
        "id": "WekckU9nCSBz"
      }
    },
    {
      "cell_type": "markdown",
      "source": [
        "visualizzare tutti i quartieri su una mappa di Milano"
      ],
      "metadata": {
        "id": "wq5JWES5EFxf"
      }
    },
    {
      "cell_type": "code",
      "source": [
        "quartieri.plot()"
      ],
      "metadata": {
        "id": "ZsM-iyDuEGJf"
      },
      "execution_count": null,
      "outputs": []
    },
    {
      "cell_type": "code",
      "source": [
        "from shapely.geometry import Point"
      ],
      "metadata": {
        "id": "cvoD21WUB6eL"
      },
      "execution_count": null,
      "outputs": []
    },
    {
      "cell_type": "markdown",
      "source": [
        " cercare il quartiere che contiene il Duomo di Milano"
      ],
      "metadata": {
        "id": "uvOZ2eKzEaHG"
      }
    },
    {
      "cell_type": "code",
      "source": [
        "quartieri[quartieri[\"NIL\"]==\"DUOMO\"]"
      ],
      "metadata": {
        "id": "K-FieZr8Ei9M"
      },
      "execution_count": null,
      "outputs": []
    },
    {
      "cell_type": "code",
      "source": [
        "DUOMO = Point(9.191866,45.464055)"
      ],
      "metadata": {
        "id": "NINTbhfEDtIa"
      },
      "execution_count": null,
      "outputs": []
    },
    {
      "cell_type": "code",
      "source": [
        "import contextily\n",
        "ax = quartieri[quartieri.contains(DUOMO)].to_crs(epsg=3857).plot(figsize=(15,15),facecolor=\"none\",edgecolor=\"k\")\n",
        "DuomoMilano=geopandas.GeoSeries([DUOMO],crs=\"EPSG:4326\").to_crs(epsg=3857).plot(ax=ax)\n",
        "contextily.add_basemap(ax)"
      ],
      "metadata": {
        "id": "gxdio6bGCVtB"
      },
      "execution_count": null,
      "outputs": []
    },
    {
      "cell_type": "markdown",
      "source": [
        "visualizzare i quartieri vicini a quello che contiene il Duomo"
      ],
      "metadata": {
        "id": "q3tFgP9cJE6z"
      }
    },
    {
      "cell_type": "code",
      "source": [
        "Vicini_duomo=quartieri[quartieri.touches(quartieri[quartieri.contains(DUOMO)].geometry.squeeze())]\n",
        "ax = Vicini_duomo.to_crs(epsg=3857).plot(figsize=(15,15),facecolor=\"none\",edgecolor=\"k\")\n",
        "contextily.add_basemap(ax)"
      ],
      "metadata": {
        "id": "tntnewPBJKgZ"
      },
      "execution_count": null,
      "outputs": []
    },
    {
      "cell_type": "code",
      "source": [
        "Vicini_duomo=quartieri[quartieri.touches(quartieri[quartieri.contains(DUOMO)].geometry.squeeze())]\n",
        "ax = Vicini_duomo.to_crs(epsg=3857).plot(figsize=(15,15),facecolor=\"none\",edgecolor=\"k\")\n",
        "contextily.add_basemap(ax)"
      ],
      "metadata": {
        "id": "_jkzvWIlK96y"
      },
      "execution_count": null,
      "outputs": []
    },
    {
      "cell_type": "code",
      "source": [
        "poligonoDuomo=quartieri[quartieri.contains(DUOMO)].geometry.squeeze()\n",
        "poligonoDuomo"
      ],
      "metadata": {
        "id": "jhqiWKnsMna7"
      },
      "execution_count": null,
      "outputs": []
    },
    {
      "cell_type": "code",
      "source": [
        "quartieriConfinantiBoolean=quartieri.touches(poligonoDuomo)\n",
        "quartieriConfinantiBoolean"
      ],
      "metadata": {
        "id": "FnxtQmBSNXZL"
      },
      "execution_count": null,
      "outputs": []
    },
    {
      "cell_type": "code",
      "source": [
        "quartieriVicini=quartieri[quartieriConfinantiBoolean]\n",
        "quartieriVicini"
      ],
      "metadata": {
        "id": "F8529Z0MM7qc"
      },
      "execution_count": null,
      "outputs": []
    }
  ]
}